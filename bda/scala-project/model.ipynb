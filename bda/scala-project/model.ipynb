{
 "cells": [
  {
   "cell_type": "code",
   "execution_count": 3,
   "id": "9ec3a318",
   "metadata": {},
   "outputs": [
    {
     "name": "stdout",
     "output_type": "stream",
     "text": [
      "Root Mean Squared Error (RMSE): 2.59\n",
      "Model saved to 'rf_calories_model.pkl'.\n",
      "Prediction for sample input: 187.41 calories\n"
     ]
    }
   ],
   "source": [
    "import pandas as pd\n",
    "import numpy as np\n",
    "from sklearn.ensemble import RandomForestRegressor\n",
    "from sklearn.preprocessing import LabelEncoder\n",
    "from sklearn.metrics import mean_squared_error\n",
    "from sklearn.model_selection import train_test_split\n",
    "import pickle\n",
    "\n",
    "# 1. Load data\n",
    "df = pd.read_csv('calories.csv')\n",
    "\n",
    "# 2. Drop missing values\n",
    "df.dropna(inplace=True)\n",
    "\n",
    "# 3. Encode 'Gender' column\n",
    "le = LabelEncoder()\n",
    "df['GenderIndexed'] = le.fit_transform(df['Gender'])\n",
    "df.drop('Gender', axis=1, inplace=True)\n",
    "\n",
    "# 4. Define features and target\n",
    "feature_cols = ['GenderIndexed', 'Age', 'Height', 'Weight', 'Duration', 'Heart_Rate', 'Body_Temp']\n",
    "X = df[feature_cols]\n",
    "y = df['Calories']\n",
    "\n",
    "# 5. Train-test split\n",
    "X_train, X_test, y_train, y_test = train_test_split(X, y, test_size=0.2, random_state=1234)\n",
    "\n",
    "# 6. Train the Random Forest model\n",
    "model = RandomForestRegressor(random_state=42)\n",
    "model.fit(X_train, y_train)\n",
    "\n",
    "# 7. Make predictions\n",
    "y_pred = model.predict(X_test)\n",
    "\n",
    "# 8. Evaluate RMSE\n",
    "rmse = np.sqrt(mean_squared_error(y_test, y_pred))\n",
    "print(f\"Root Mean Squared Error (RMSE): {rmse:.2f}\")\n",
    "\n",
    "# 9. Save model\n",
    "with open('rf_calories_model.pkl', 'wb') as f:\n",
    "    pickle.dump(model, f)\n",
    "print(\"Model saved to 'rf_calories_model.pkl'.\")\n",
    "\n",
    "# 10. Predict on new input\n",
    "sample_input = pd.DataFrame([{\n",
    "    'GenderIndexed': 1.0,\n",
    "    'Age': 25.0,\n",
    "    'Height': 175.0,\n",
    "    'Weight': 70.0,\n",
    "    'Duration': 30.0,\n",
    "    'Heart_Rate': 110.0,\n",
    "    'Body_Temp': 98.6\n",
    "}])\n",
    "\n",
    "sample_pred = model.predict(sample_input)\n",
    "print(f\"Prediction for sample input: {sample_pred[0]:.2f} calories\")\n"
   ]
  },
  {
   "cell_type": "code",
   "execution_count": null,
   "id": "8fae61b6",
   "metadata": {},
   "outputs": [],
   "source": []
  }
 ],
 "metadata": {
  "kernelspec": {
   "display_name": "Python 3",
   "language": "python",
   "name": "python3"
  },
  "language_info": {
   "codemirror_mode": {
    "name": "ipython",
    "version": 3
   },
   "file_extension": ".py",
   "mimetype": "text/x-python",
   "name": "python",
   "nbconvert_exporter": "python",
   "pygments_lexer": "ipython3",
   "version": "3.10.12"
  }
 },
 "nbformat": 4,
 "nbformat_minor": 5
}
