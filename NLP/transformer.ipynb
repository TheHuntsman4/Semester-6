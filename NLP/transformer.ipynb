{
 "cells": [
  {
   "cell_type": "code",
   "execution_count": 1,
   "metadata": {},
   "outputs": [
    {
     "name": "stdout",
     "output_type": "stream",
     "text": [
      "Generated weather_data.txt\n"
     ]
    }
   ],
   "source": [
    "import random\n",
    "\n",
    "stations = [\"ST001\", \"ST002\", \"ST003\", \"ST004\"]\n",
    "years = [\"2023\", \"2024\"]\n",
    "months = [f\"{m:02d}\" for m in range(1, 13)]\n",
    "days = [f\"{d:02d}\" for d in range(1, 29)]  # Assume 28 days per month\n",
    "\n",
    "with open(\"weather_data.txt\", \"w\") as f:\n",
    "    for _ in range(100):  # Generate 100 records\n",
    "        station = random.choice(stations)\n",
    "        year = random.choice(years)\n",
    "        month = random.choice(months)\n",
    "        day = random.choice(days)\n",
    "        temperature = random.randint(-10, 50)  # Random temp between -10 and 50\n",
    "        f.write(f\"{station},{year},{month},{day},{temperature}\\n\")\n",
    "\n",
    "print(\"Generated weather_data.txt\")\n"
   ]
  },
  {
   "cell_type": "code",
   "execution_count": null,
   "metadata": {},
   "outputs": [],
   "source": []
  }
 ],
 "metadata": {
  "kernelspec": {
   "display_name": "Python 3",
   "language": "python",
   "name": "python3"
  },
  "language_info": {
   "codemirror_mode": {
    "name": "ipython",
    "version": 3
   },
   "file_extension": ".py",
   "mimetype": "text/x-python",
   "name": "python",
   "nbconvert_exporter": "python",
   "pygments_lexer": "ipython3",
   "version": "3.10.12"
  }
 },
 "nbformat": 4,
 "nbformat_minor": 2
}
