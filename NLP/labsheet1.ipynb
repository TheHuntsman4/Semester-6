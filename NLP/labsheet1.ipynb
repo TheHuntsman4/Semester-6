{
 "cells": [
  {
   "cell_type": "markdown",
   "metadata": {},
   "source": [
    "# Labsheet 1\n",
    "\n",
    "## Name: Aniketh Vijesh\n",
    "## Roll No: AM.EN.U4AIE22009"
   ]
  },
  {
   "cell_type": "code",
   "execution_count": 6,
   "metadata": {},
   "outputs": [
    {
     "name": "stderr",
     "output_type": "stream",
     "text": [
      "[nltk_data] Downloading package punkt to\n",
      "[nltk_data]     /home/the_architect/nltk_data...\n",
      "[nltk_data]   Package punkt is already up-to-date!\n",
      "[nltk_data] Downloading package stopwords to\n",
      "[nltk_data]     /home/the_architect/nltk_data...\n",
      "[nltk_data]   Unzipping corpora/stopwords.zip.\n"
     ]
    }
   ],
   "source": [
    "import nltk\n",
    "nltk.download('punkt')\n",
    "nltk.download('stopwords')\n",
    "from nltk.corpus import stopwords\n"
   ]
  },
  {
   "cell_type": "code",
   "execution_count": 9,
   "metadata": {},
   "outputs": [
    {
     "name": "stdout",
     "output_type": "stream",
     "text": [
      "Sentences:\n",
      "['Biryani is an amazing, flavorful and aromatic rice dish that originated in South Asia.', 'It consists of rice layered with meat or vegetables, fragrant spices like cardamom, cinnamon, and saffron, and is slow-cooked to perfection.', 'The dish has many regional variations across India, Pakistan, and other countries, each with its own unique blend of spices and cooking methods.']\n",
      "Number of tokenized sentences: 3\n",
      "\n",
      "Words before removing stopwords:\n",
      "['Biryani', 'is', 'an', 'amazing', ',', 'flavorful', 'and', 'aromatic', 'rice', 'dish', 'that', 'originated', 'in', 'South', 'Asia', '.', 'It', 'consists', 'of', 'rice', 'layered', 'with', 'meat', 'or', 'vegetables', ',', 'fragrant', 'spices', 'like', 'cardamom', ',', 'cinnamon', ',', 'and', 'saffron', ',', 'and', 'is', 'slow-cooked', 'to', 'perfection', '.', 'The', 'dish', 'has', 'many', 'regional', 'variations', 'across', 'India', ',', 'Pakistan', ',', 'and', 'other', 'countries', ',', 'each', 'with', 'its', 'own', 'unique', 'blend', 'of', 'spices', 'and', 'cooking', 'methods', '.']\n",
      "Number of tokenized words: 69\n",
      "\n",
      "Words after removing stopwords:\n",
      "['Biryani', 'amazing', ',', 'flavorful', 'aromatic', 'rice', 'dish', 'originated', 'South', 'Asia', '.', 'consists', 'rice', 'layered', 'meat', 'vegetables', ',', 'fragrant', 'spices', 'like', 'cardamom', ',', 'cinnamon', ',', 'saffron', ',', 'slow-cooked', 'perfection', '.', 'dish', 'many', 'regional', 'variations', 'across', 'India', ',', 'Pakistan', ',', 'countries', ',', 'unique', 'blend', 'spices', 'cooking', 'methods', '.']\n",
      "Number of words after removing stopwords: 46\n"
     ]
    }
   ],
   "source": [
    "para = \"Biryani is an amazing, flavorful and aromatic rice dish that originated in South Asia. It consists of rice layered with meat or vegetables, fragrant spices like cardamom, cinnamon, and saffron, and is slow-cooked to perfection. The dish has many regional variations across India, Pakistan, and other countries, each with its own unique blend of spices and cooking methods.\"\n",
    "\n",
    "# Tokenize into sentences\n",
    "sentences = nltk.sent_tokenize(para)\n",
    "print(\"Sentences:\")\n",
    "print(sentences)\n",
    "print(\"Number of tokenized sentences:\", len(sentences))\n",
    "\n",
    "# Tokenize into words\n",
    "words = nltk.word_tokenize(para)\n",
    "print(\"\\nWords before removing stopwords:\")\n",
    "print(words)\n",
    "print(\"Number of tokenized words:\", len(words))\n",
    "\n",
    "stop_words = set(stopwords.words('english'))\n",
    "\n",
    "# Remove stopwords\n",
    "words_no_stop = [word for word in words if word.lower() not in stop_words]\n",
    "print(\"\\nWords after removing stopwords:\")\n",
    "print(words_no_stop)\n",
    "print(\"Number of words after removing stopwords:\", len(words_no_stop))\n"
   ]
  },
  {
   "cell_type": "code",
   "execution_count": 13,
   "metadata": {},
   "outputs": [
    {
     "name": "stdout",
     "output_type": "stream",
     "text": [
      "The Union Budget 2025-26, presented by Finance Minister Nirmala Sitharaman on February 1, 2025, marks a significant milestone in India's journey towards becoming a developed nation by 2047. The budget introduced several transformative measures with a total expenditure outlay of Rs 47.66 lakh crore. Key highlights include a substantial increase in capital expenditure to Rs 12.5 lakh crore, representing an 11.1% growth over the previous year. The government announced major initiatives in infrastructure development, including the expansion of metro rail networks to 25 new cities and the development of three major economic railway corridors under the PM Gati Shakti program.\n",
      "\n",
      "The budget also introduced revolutionary reforms in taxation and social welfare schemes. A new simplified tax regime was implemented to boost compliance and reduce the burden on middle-class taxpayers. The government expanded its flagship programs, with Rs 1.5 lakh crore allocated for housing under PM Awas Yojana and Rs 2 lakh crore for the PM Kisan Samman Nidhi scheme. Significant emphasis was placed on green energy transition, with Rs 75,000 crore allocated for solar power projects and electric vehicle infrastructure. The fiscal deficit target was set at 4.5% of GDP, reflecting the government's commitment to fiscal consolidation while maintaining growth momentum.\n",
      "\n",
      "\n",
      "[\"The Union Budget 2025-26, presented by Finance Minister Nirmala Sitharaman on February 1, 2025, marks a significant milestone in India's journey towards becoming a developed nation by 2047.\", 'The budget introduced several transformative measures with a total expenditure outlay of Rs 47.66 lakh crore.', 'Key highlights include a substantial increase in capital expenditure to Rs 12.5 lakh crore, representing an 11.1% growth over the previous year.', 'The government announced major initiatives in infrastructure development, including the expansion of metro rail networks to 25 new cities and the development of three major economic railway corridors under the PM Gati Shakti program.', 'The budget also introduced revolutionary reforms in taxation and social welfare schemes.', 'A new simplified tax regime was implemented to boost compliance and reduce the burden on middle-class taxpayers.', 'The government expanded its flagship programs, with Rs 1.5 lakh crore allocated for housing under PM Awas Yojana and Rs 2 lakh crore for the PM Kisan Samman Nidhi scheme.', 'Significant emphasis was placed on green energy transition, with Rs 75,000 crore allocated for solar power projects and electric vehicle infrastructure.', \"The fiscal deficit target was set at 4.5% of GDP, reflecting the government's commitment to fiscal consolidation while maintaining growth momentum.\"]\n",
      "['The', 'Union', 'Budget', '2025-26', ',', 'presented', 'by', 'Finance', 'Minister', 'Nirmala', 'Sitharaman', 'on', 'February', '1', ',', '2025', ',', 'marks', 'a', 'significant', 'milestone', 'in', 'India', \"'s\", 'journey', 'towards', 'becoming', 'a', 'developed', 'nation', 'by', '2047', '.', 'The', 'budget', 'introduced', 'several', 'transformative', 'measures', 'with', 'a', 'total', 'expenditure', 'outlay', 'of', 'Rs', '47.66', 'lakh', 'crore', '.', 'Key', 'highlights', 'include', 'a', 'substantial', 'increase', 'in', 'capital', 'expenditure', 'to', 'Rs', '12.5', 'lakh', 'crore', ',', 'representing', 'an', '11.1', '%', 'growth', 'over', 'the', 'previous', 'year', '.', 'The', 'government', 'announced', 'major', 'initiatives', 'in', 'infrastructure', 'development', ',', 'including', 'the', 'expansion', 'of', 'metro', 'rail', 'networks', 'to', '25', 'new', 'cities', 'and', 'the', 'development', 'of', 'three', 'major', 'economic', 'railway', 'corridors', 'under', 'the', 'PM', 'Gati', 'Shakti', 'program', '.', 'The', 'budget', 'also', 'introduced', 'revolutionary', 'reforms', 'in', 'taxation', 'and', 'social', 'welfare', 'schemes', '.', 'A', 'new', 'simplified', 'tax', 'regime', 'was', 'implemented', 'to', 'boost', 'compliance', 'and', 'reduce', 'the', 'burden', 'on', 'middle-class', 'taxpayers', '.', 'The', 'government', 'expanded', 'its', 'flagship', 'programs', ',', 'with', 'Rs', '1.5', 'lakh', 'crore', 'allocated', 'for', 'housing', 'under', 'PM', 'Awas', 'Yojana', 'and', 'Rs', '2', 'lakh', 'crore', 'for', 'the', 'PM', 'Kisan', 'Samman', 'Nidhi', 'scheme', '.', 'Significant', 'emphasis', 'was', 'placed', 'on', 'green', 'energy', 'transition', ',', 'with', 'Rs', '75,000', 'crore', 'allocated', 'for', 'solar', 'power', 'projects', 'and', 'electric', 'vehicle', 'infrastructure', '.', 'The', 'fiscal', 'deficit', 'target', 'was', 'set', 'at', '4.5', '%', 'of', 'GDP', ',', 'reflecting', 'the', 'government', \"'s\", 'commitment', 'to', 'fiscal', 'consolidation', 'while', 'maintaining', 'growth', 'momentum', '.']\n"
     ]
    }
   ],
   "source": [
    "txt_words = open(\"./text.txt\",\"r\")\n",
    "txt_words = txt_words.read()\n",
    "\n",
    "print(txt_words)\n",
    "\n",
    "sentences = nltk.sent_tokenize(txt_words)\n",
    "print(sentences)\n",
    "\n",
    "words = nltk.word_tokenize(txt_words)\n",
    "print(words)\n",
    "\n"
   ]
  },
  {
   "cell_type": "code",
   "execution_count": null,
   "metadata": {},
   "outputs": [],
   "source": []
  }
 ],
 "metadata": {
  "kernelspec": {
   "display_name": "Python 3",
   "language": "python",
   "name": "python3"
  },
  "language_info": {
   "codemirror_mode": {
    "name": "ipython",
    "version": 3
   },
   "file_extension": ".py",
   "mimetype": "text/x-python",
   "name": "python",
   "nbconvert_exporter": "python",
   "pygments_lexer": "ipython3",
   "version": "3.10.12"
  }
 },
 "nbformat": 4,
 "nbformat_minor": 2
}
