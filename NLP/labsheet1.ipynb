{
 "cells": [
  {
   "cell_type": "markdown",
   "metadata": {},
   "source": [
    "# Labsheet 1\n",
    "\n",
    "## Name: Aniketh Vijesh\n",
    "## Roll No: AM.EN.U4AIE22009"
   ]
  },
  {
   "cell_type": "code",
   "execution_count": 6,
   "metadata": {},
   "outputs": [
    {
     "name": "stderr",
     "output_type": "stream",
     "text": [
      "[nltk_data] Downloading package punkt to\n",
      "[nltk_data]     /home/the_architect/nltk_data...\n",
      "[nltk_data]   Package punkt is already up-to-date!\n",
      "[nltk_data] Downloading package stopwords to\n",
      "[nltk_data]     /home/the_architect/nltk_data...\n",
      "[nltk_data]   Unzipping corpora/stopwords.zip.\n"
     ]
    }
   ],
   "source": [
    "import nltk\n",
    "nltk.download('punkt')\n",
    "nltk.download('stopwords')\n",
    "from nltk.corpus import stopwords\n"
   ]
  },
  {
   "cell_type": "code",
   "execution_count": 7,
   "metadata": {},
   "outputs": [
    {
     "name": "stdout",
     "output_type": "stream",
     "text": [
      "Sentences:\n",
      "['Biryani is a flavorful and aromatic rice dish that originated in South Asia.', 'It consists of rice layered with meat or vegetables, fragrant spices like cardamom, cinnamon, and saffron, and is slow-cooked to perfection.', 'The dish has many regional variations across India, Pakistan, and other countries, each with its own unique blend of spices and cooking methods.']\n",
      "Number of tokenized sentences: 3\n",
      "\n",
      "Words before removing stopwords:\n",
      "['Biryani', 'is', 'a', 'flavorful', 'and', 'aromatic', 'rice', 'dish', 'that', 'originated', 'in', 'South', 'Asia', '.', 'It', 'consists', 'of', 'rice', 'layered', 'with', 'meat', 'or', 'vegetables', ',', 'fragrant', 'spices', 'like', 'cardamom', ',', 'cinnamon', ',', 'and', 'saffron', ',', 'and', 'is', 'slow-cooked', 'to', 'perfection', '.', 'The', 'dish', 'has', 'many', 'regional', 'variations', 'across', 'India', ',', 'Pakistan', ',', 'and', 'other', 'countries', ',', 'each', 'with', 'its', 'own', 'unique', 'blend', 'of', 'spices', 'and', 'cooking', 'methods', '.']\n",
      "Number of tokenized words: 67\n",
      "\n",
      "Words after removing stopwords:\n",
      "['Biryani', 'flavorful', 'aromatic', 'rice', 'dish', 'originated', 'South', 'Asia', '.', 'consists', 'rice', 'layered', 'meat', 'vegetables', ',', 'fragrant', 'spices', 'like', 'cardamom', ',', 'cinnamon', ',', 'saffron', ',', 'slow-cooked', 'perfection', '.', 'dish', 'many', 'regional', 'variations', 'across', 'India', ',', 'Pakistan', ',', 'countries', ',', 'unique', 'blend', 'spices', 'cooking', 'methods', '.']\n",
      "Number of words after removing stopwords: 44\n"
     ]
    }
   ],
   "source": [
    "para = \"Biryani is a flavorful and aromatic rice dish that originated in South Asia. It consists of rice layered with meat or vegetables, fragrant spices like cardamom, cinnamon, and saffron, and is slow-cooked to perfection. The dish has many regional variations across India, Pakistan, and other countries, each with its own unique blend of spices and cooking methods.\"\n",
    "\n",
    "# Tokenize into sentences\n",
    "sentences = nltk.sent_tokenize(para)\n",
    "print(\"Sentences:\")\n",
    "print(sentences)\n",
    "print(\"Number of tokenized sentences:\", len(sentences))\n",
    "\n",
    "# Tokenize into words\n",
    "words = nltk.word_tokenize(para)\n",
    "print(\"\\nWords before removing stopwords:\")\n",
    "print(words)\n",
    "print(\"Number of tokenized words:\", len(words))\n",
    "\n",
    "stop_words = set(stopwords.words('english'))\n",
    "\n",
    "# Remove stopwords\n",
    "words_no_stop = [word for word in words if word.lower() not in stop_words]\n",
    "print(\"\\nWords after removing stopwords:\")\n",
    "print(words_no_stop)\n",
    "print(\"Number of words after removing stopwords:\", len(words_no_stop))\n"
   ]
  },
  {
   "cell_type": "markdown",
   "metadata": {},
   "source": []
  }
 ],
 "metadata": {
  "kernelspec": {
   "display_name": "Python 3",
   "language": "python",
   "name": "python3"
  },
  "language_info": {
   "codemirror_mode": {
    "name": "ipython",
    "version": 3
   },
   "file_extension": ".py",
   "mimetype": "text/x-python",
   "name": "python",
   "nbconvert_exporter": "python",
   "pygments_lexer": "ipython3",
   "version": "3.10.12"
  }
 },
 "nbformat": 4,
 "nbformat_minor": 2
}
