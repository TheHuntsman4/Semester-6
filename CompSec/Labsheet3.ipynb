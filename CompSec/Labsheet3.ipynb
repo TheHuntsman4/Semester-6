{
 "cells": [
  {
   "cell_type": "markdown",
   "metadata": {},
   "source": [
    "# Labsheet 3\n",
    "\n",
    "## Name: Aniketh Vijesh\n",
    "## Roll No: AM.EN.U4AIE22009"
   ]
  },
  {
   "cell_type": "code",
   "execution_count": 1,
   "metadata": {},
   "outputs": [
    {
     "name": "stdout",
     "output_type": "stream",
     "text": [
      "Original Message: 1010 1100 1111\n",
      "LRC: 1001\n",
      "Transmitted Message: 1010 1100 1111 1001\n",
      "Receiver Check: Error Detected\n"
     ]
    }
   ],
   "source": [
    "def calculate_lrc(data_blocks):\n",
    "    lrc = [0] * len(data_blocks[0])  \n",
    "    for block in data_blocks:\n",
    "        for i in range(len(block)):\n",
    "            lrc[i] ^= int(block[i])  \n",
    "    return ''.join(map(str, lrc))\n",
    "\n",
    "def check_lrc(data_blocks, received_lrc):\n",
    "    calculated_lrc = calculate_lrc(data_blocks)\n",
    "    return calculated_lrc == received_lrc\n",
    "\n",
    "data = [\"1010\", \"1100\", \"1111\"]\n",
    "lrc = calculate_lrc(data)\n",
    "transmitted_message = data + [lrc]\n",
    "print(\"Original Message:\", \" \".join(data))\n",
    "print(\"LRC:\", lrc)\n",
    "print(\"Transmitted Message:\", \" \".join(transmitted_message))\n",
    "\n",
    "# Simulating error\n",
    "received_data = [\"1010\", \"1100\", \"1011\"]  \n",
    "received_lrc = lrc\n",
    "\n",
    "if check_lrc(received_data, received_lrc):\n",
    "    print(\"Receiver Check: No Error Detected\")\n",
    "else:\n",
    "    print(\"Receiver Check: Error Detected\")\n"
   ]
  },
  {
   "cell_type": "code",
   "execution_count": 2,
   "metadata": {},
   "outputs": [
    {
     "name": "stdout",
     "output_type": "stream",
     "text": [
      "Original Message: 1101011\n",
      "Even Parity Bit: 1\n",
      "Transmitted Message: 11010111\n",
      "Receiver Check: No Error Detected\n"
     ]
    }
   ],
   "source": [
    "def calculate_vrc(data):\n",
    "    parity_bit = str(data.count('1') % 2 == 0).replace('True', '0').replace('False', '1')\n",
    "    return data + parity_bit\n",
    "\n",
    "def check_vrc(received_data):\n",
    "    return received_data.count('1') % 2 == 0\n",
    "\n",
    "data = \"1101011\"\n",
    "transmitted_message = calculate_vrc(data)\n",
    "print(\"Original Message:\", data)\n",
    "print(\"Even Parity Bit:\", transmitted_message[-1])\n",
    "print(\"Transmitted Message:\", transmitted_message)\n",
    "\n",
    "# Simulating error\n",
    "received_data = transmitted_message[:-1] + \"1\"  \n",
    "if check_vrc(received_data):\n",
    "    print(\"Receiver Check: No Error Detected\")\n",
    "else:\n",
    "    print(\"Receiver Check: Error Detected\")\n"
   ]
  },
  {
   "cell_type": "code",
   "execution_count": 3,
   "metadata": {},
   "outputs": [
    {
     "name": "stdout",
     "output_type": "stream",
     "text": [
      "Original Message: 1010101010101010 1100110011001100\n",
      "Checksum: 1000100010001001\n",
      "Transmitted Message: 1010101010101010 1100110011001100 1000100010001001\n",
      "Receiver Check: Error Detected\n"
     ]
    }
   ],
   "source": [
    "def calculate_checksum(words):\n",
    "    checksum = sum(int(word, 2) for word in words) & 0xFFFF\n",
    "    checksum = (~checksum) & 0xFFFF  \n",
    "    return format(checksum, '016b')\n",
    "\n",
    "def verify_checksum(words, received_checksum):\n",
    "    computed_checksum = calculate_checksum(words)\n",
    "    return computed_checksum == received_checksum\n",
    "\n",
    "data = [\"1010101010101010\", \"1100110011001100\"]\n",
    "checksum = calculate_checksum(data)\n",
    "transmitted_message = data + [checksum]\n",
    "print(\"Original Message:\", \" \".join(data))\n",
    "print(\"Checksum:\", checksum)\n",
    "print(\"Transmitted Message:\", \" \".join(transmitted_message))\n",
    "\n",
    "# Simulating error\n",
    "received_data = [\"1010101010101010\", \"1000110011001100\"]  \n",
    "received_checksum = checksum\n",
    "\n",
    "if verify_checksum(received_data, received_checksum):\n",
    "    print(\"Receiver Check: No Error Detected\")\n",
    "else:\n",
    "    print(\"Receiver Check: Error Detected\")\n"
   ]
  },
  {
   "cell_type": "code",
   "execution_count": 4,
   "metadata": {},
   "outputs": [
    {
     "name": "stdout",
     "output_type": "stream",
     "text": [
      "Original Message: 101001\n",
      "CRC: 001\n",
      "Transmitted Message: 101001001\n",
      "Receiver Check: Error Detected\n"
     ]
    }
   ],
   "source": [
    "def xor(a, b):\n",
    "    return ''.join('0' if i == j else '1' for i, j in zip(a, b))\n",
    "\n",
    "def divide_crc(data, divisor):\n",
    "    n = len(divisor)\n",
    "    temp = data[:n]\n",
    "    while n < len(data):\n",
    "        if temp[0] == '1':\n",
    "            temp = xor(temp, divisor) + data[n]\n",
    "        else:\n",
    "            temp = xor(temp, '0'*n) + data[n]\n",
    "        temp = temp[1:]\n",
    "        n += 1\n",
    "    if temp[0] == '1':\n",
    "        temp = xor(temp, divisor)\n",
    "    else:\n",
    "        temp = xor(temp, '0'*len(divisor))\n",
    "    return temp[1:]\n",
    "\n",
    "def encode_crc(data, generator):\n",
    "    padded_data = data + '0'*(len(generator)-1)\n",
    "    crc = divide_crc(padded_data, generator)\n",
    "    return data + crc\n",
    "\n",
    "data = \"101001\"\n",
    "generator = \"1101\"\n",
    "transmitted_message = encode_crc(data, generator)\n",
    "print(\"Original Message:\", data)\n",
    "print(\"CRC:\", transmitted_message[len(data):])\n",
    "print(\"Transmitted Message:\", transmitted_message)\n",
    "\n",
    "# Simulating error\n",
    "received_data = \"111001\" + transmitted_message[len(data):]  \n",
    "\n",
    "if divide_crc(received_data, generator) == '0'*(len(generator)-1):\n",
    "    print(\"Receiver Check: No Error Detected\")\n",
    "else:\n",
    "    print(\"Receiver Check: Error Detected\")\n"
   ]
  },
  {
   "cell_type": "code",
   "execution_count": 5,
   "metadata": {},
   "outputs": [
    {
     "name": "stdout",
     "output_type": "stream",
     "text": [
      "Encoded Message: 0110011\n",
      "Transmitted Message: 0110011\n",
      "Receiver Check: Error Detected at Bit Position: 2\n",
      "Corrected Message: 1000011\n"
     ]
    }
   ],
   "source": [
    "def hamming_encode(data):\n",
    "    d = list(data)\n",
    "    p1 = str((int(d[0]) + int(d[1]) + int(d[3])) % 2)\n",
    "    p2 = str((int(d[0]) + int(d[2]) + int(d[3])) % 2)\n",
    "    p4 = str((int(d[1]) + int(d[2]) + int(d[3])) % 2)\n",
    "    return p1 + p2 + d[0] + p4 + d[1] + d[2] + d[3]\n",
    "\n",
    "def hamming_decode(received):\n",
    "    p1 = int(received[0])\n",
    "    p2 = int(received[1])\n",
    "    d1 = int(received[2])\n",
    "    p4 = int(received[3])\n",
    "    d2 = int(received[4])\n",
    "    d3 = int(received[5])\n",
    "    d4 = int(received[6])\n",
    "\n",
    "    c1 = (p1 + d1 + d2 + d4) % 2\n",
    "    c2 = (p2 + d1 + d3 + d4) % 2\n",
    "    c4 = (p4 + d2 + d3 + d4) % 2\n",
    "\n",
    "    error_pos = c1 * 1 + c2 * 2 + c4 * 4\n",
    "\n",
    "    if error_pos == 0:\n",
    "        print(\"Receiver Check: No Error Detected\")\n",
    "    else:\n",
    "        print(f\"Receiver Check: Error Detected at Bit Position: {error_pos}\")\n",
    "        received = list(received)\n",
    "        received[error_pos - 1] = '1' if received[error_pos - 1] == '0' else '0'\n",
    "        print(\"Corrected Message:\", ''.join(received))\n",
    "\n",
    "data = \"1011\"\n",
    "encoded_message = hamming_encode(data)\n",
    "print(\"Encoded Message:\", encoded_message)\n",
    "print(\"Transmitted Message:\", encoded_message)\n",
    "\n",
    "# Simulating error\n",
    "received_message = \"1100011\"  \n",
    "\n",
    "hamming_decode(received_message)\n"
   ]
  },
  {
   "cell_type": "code",
   "execution_count": null,
   "metadata": {},
   "outputs": [],
   "source": []
  }
 ],
 "metadata": {
  "kernelspec": {
   "display_name": "Python 3",
   "language": "python",
   "name": "python3"
  },
  "language_info": {
   "codemirror_mode": {
    "name": "ipython",
    "version": 3
   },
   "file_extension": ".py",
   "mimetype": "text/x-python",
   "name": "python",
   "nbconvert_exporter": "python",
   "pygments_lexer": "ipython3",
   "version": "3.10.12"
  }
 },
 "nbformat": 4,
 "nbformat_minor": 2
}
