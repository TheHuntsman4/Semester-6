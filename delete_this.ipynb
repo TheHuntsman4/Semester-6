{
 "cells": [
  {
   "cell_type": "code",
   "execution_count": 8,
   "metadata": {},
   "outputs": [
    {
     "name": "stdout",
     "output_type": "stream",
     "text": [
      "2025-03-03 17:55:45,122 INFO image_writer.py:197 - writing: /home/the_architect/vr_heart_results/45wq9ozw/labels/P73_labels/0/0_pred_discrete.nii.gz\n",
      "torch.Size([512, 512, 281])\n",
      "Original image data:  [[[0.03258974 0.03258974 0.03234433 ... 0.03296124 0.03296124 0.03333683]\n",
      "  [0.03258974 0.03258974 0.03234433 ... 0.03296124 0.03296124 0.03333683]\n",
      "  [0.03258974 0.03258974 0.03228326 ... 0.03271313 0.03271313 0.03321117]\n",
      "  ...\n",
      "  [0.03314852 0.03314852 0.03289904 ... 0.03252823 0.03252823 0.03296124]\n",
      "  [0.03302355 0.03302355 0.03296124 ... 0.03246681 0.03246681 0.03271313]\n",
      "  [0.03302355 0.03302355 0.03296124 ... 0.03246681 0.03246681 0.03271313]]\n",
      "\n",
      " [[0.03258974 0.03258974 0.03234433 ... 0.03296124 0.03296124 0.03333683]\n",
      "  [0.03258974 0.03258974 0.03234433 ... 0.03296124 0.03296124 0.03333683]\n",
      "  [0.03258974 0.03258974 0.03228326 ... 0.03271313 0.03271313 0.03321117]\n",
      "  ...\n",
      "  [0.03314852 0.03314852 0.03289904 ... 0.03252823 0.03252823 0.03296124]\n",
      "  [0.03302355 0.03302355 0.03296124 ... 0.03246681 0.03246681 0.03271313]\n",
      "  [0.03302355 0.03302355 0.03296124 ... 0.03246681 0.03246681 0.03271313]]\n",
      "\n",
      " [[0.0322223  0.0322223  0.03161877 ... 0.03240551 0.03240551 0.03308598]\n",
      "  [0.0322223  0.0322223  0.03161877 ... 0.03240551 0.03240551 0.03308598]\n",
      "  [0.03210071 0.03210071 0.03132112 ... 0.03173859 0.03173859 0.03265138]\n",
      "  ...\n",
      "  [0.03308598 0.03308598 0.03252823 ... 0.03197956 0.03197956 0.03240551]\n",
      "  [0.03308598 0.03308598 0.03283696 ... 0.03210071 0.03210071 0.03234433]\n",
      "  [0.03308598 0.03308598 0.03283696 ... 0.03210071 0.03210071 0.03234433]]\n",
      "\n",
      " ...\n",
      "\n",
      " [[0.03210071 0.03210071 0.03167862 ... 0.03358951 0.03358951 0.03308598]\n",
      "  [0.03210071 0.03210071 0.03167862 ... 0.03358951 0.03358951 0.03308598]\n",
      "  [0.03197956 0.03197956 0.03132112 ... 0.03488088 0.03488088 0.03384404]\n",
      "  ...\n",
      "  [0.03384404 0.03384404 0.03474963 ... 0.03296124 0.03296124 0.03246681]\n",
      "  [0.03271313 0.03271313 0.03296124 ... 0.03271313 0.03271313 0.03246681]\n",
      "  [0.03271313 0.03271313 0.03296124 ... 0.03271313 0.03271313 0.03246681]]\n",
      "\n",
      " [[0.03210071 0.03210071 0.03185885 ... 0.03302355 0.03302355 0.03271313]\n",
      "  [0.03210071 0.03210071 0.03185885 ... 0.03302355 0.03302355 0.03271313]\n",
      "  [0.03197956 0.03197956 0.03149938 ... 0.03378023 0.03378023 0.03321117]\n",
      "  ...\n",
      "  [0.03333683 0.03333683 0.03371654 ... 0.03296124 0.03296124 0.03258974]\n",
      "  [0.03252823 0.03252823 0.03258974 ... 0.03271313 0.03271313 0.03258974]\n",
      "  [0.03252823 0.03252823 0.03258974 ... 0.03271313 0.03271313 0.03258974]]\n",
      "\n",
      " [[0.03210071 0.03210071 0.03185885 ... 0.03302355 0.03302355 0.03271313]\n",
      "  [0.03210071 0.03210071 0.03185885 ... 0.03302355 0.03302355 0.03271313]\n",
      "  [0.03197956 0.03197956 0.03149938 ... 0.03378023 0.03378023 0.03321117]\n",
      "  ...\n",
      "  [0.03333683 0.03333683 0.03371654 ... 0.03296124 0.03296124 0.03258974]\n",
      "  [0.03252823 0.03252823 0.03258974 ... 0.03271313 0.03271313 0.03258974]\n",
      "  [0.03252823 0.03252823 0.03258974 ... 0.03271313 0.03271313 0.03258974]]]\n",
      "discreted image data:  [[[[0. 0. 0. ... 0. 0. 0.]]\n",
      "\n",
      "  [[0. 0. 0. ... 0. 0. 0.]]\n",
      "\n",
      "  [[0. 0. 0. ... 0. 0. 0.]]\n",
      "\n",
      "  ...\n",
      "\n",
      "  [[0. 0. 0. ... 0. 0. 0.]]\n",
      "\n",
      "  [[0. 0. 0. ... 0. 0. 0.]]\n",
      "\n",
      "  [[0. 0. 0. ... 0. 0. 0.]]]\n",
      "\n",
      "\n",
      " [[[0. 0. 0. ... 0. 0. 0.]]\n",
      "\n",
      "  [[0. 0. 0. ... 0. 0. 0.]]\n",
      "\n",
      "  [[0. 0. 0. ... 0. 0. 0.]]\n",
      "\n",
      "  ...\n",
      "\n",
      "  [[0. 0. 0. ... 0. 0. 0.]]\n",
      "\n",
      "  [[0. 0. 0. ... 0. 0. 0.]]\n",
      "\n",
      "  [[0. 0. 0. ... 0. 0. 0.]]]\n",
      "\n",
      "\n",
      " [[[0. 0. 0. ... 0. 0. 0.]]\n",
      "\n",
      "  [[0. 0. 0. ... 0. 0. 0.]]\n",
      "\n",
      "  [[0. 0. 0. ... 0. 0. 0.]]\n",
      "\n",
      "  ...\n",
      "\n",
      "  [[0. 0. 0. ... 0. 0. 0.]]\n",
      "\n",
      "  [[0. 0. 0. ... 0. 0. 0.]]\n",
      "\n",
      "  [[0. 0. 0. ... 0. 0. 0.]]]\n",
      "\n",
      "\n",
      " ...\n",
      "\n",
      "\n",
      " [[[0. 0. 0. ... 0. 0. 0.]]\n",
      "\n",
      "  [[0. 0. 0. ... 0. 0. 0.]]\n",
      "\n",
      "  [[0. 0. 0. ... 0. 0. 0.]]\n",
      "\n",
      "  ...\n",
      "\n",
      "  [[0. 0. 0. ... 0. 0. 0.]]\n",
      "\n",
      "  [[0. 0. 0. ... 0. 0. 0.]]\n",
      "\n",
      "  [[0. 0. 0. ... 0. 0. 0.]]]\n",
      "\n",
      "\n",
      " [[[0. 0. 0. ... 0. 0. 0.]]\n",
      "\n",
      "  [[0. 0. 0. ... 0. 0. 0.]]\n",
      "\n",
      "  [[0. 0. 0. ... 0. 0. 0.]]\n",
      "\n",
      "  ...\n",
      "\n",
      "  [[0. 0. 0. ... 0. 0. 0.]]\n",
      "\n",
      "  [[0. 0. 0. ... 0. 0. 0.]]\n",
      "\n",
      "  [[0. 0. 0. ... 0. 0. 0.]]]\n",
      "\n",
      "\n",
      " [[[0. 0. 0. ... 0. 0. 0.]]\n",
      "\n",
      "  [[0. 0. 0. ... 0. 0. 0.]]\n",
      "\n",
      "  [[0. 0. 0. ... 0. 0. 0.]]\n",
      "\n",
      "  ...\n",
      "\n",
      "  [[0. 0. 0. ... 0. 0. 0.]]\n",
      "\n",
      "  [[0. 0. 0. ... 0. 0. 0.]]\n",
      "\n",
      "  [[0. 0. 0. ... 0. 0. 0.]]]]\n"
     ]
    }
   ],
   "source": [
    "import nibabel\n",
    "import numpy as np\n",
    "from monai.transforms import AsDiscrete, SaveImage, Compose\n",
    "\n",
    "# Load the image\n",
    "image = nibabel.load('/home/the_architect/vr_heart_results/45wq9ozw/labels/P73_labels/P73_labels_pred.nii.gz')\n",
    "image_data = image.get_fdata()\n",
    "\n",
    "transforms = Compose([\n",
    "    AsDiscrete(threshold=0.5),\n",
    "    SaveImage(output_dir='/home/the_architect/vr_heart_results/45wq9ozw/labels/P73_labels',\n",
    "             output_postfix='pred_discrete', \n",
    "             output_ext='.nii.gz',\n",
    "             resample=False)\n",
    "])\n",
    "\n",
    "# Apply transforms and verify shape\n",
    "discrete_data = transforms(image_data)\n",
    "print(discrete_data.shape)\n"
   ]
  },
  {
   "cell_type": "code",
   "execution_count": 3,
   "metadata": {},
   "outputs": [
    {
     "name": "stdout",
     "output_type": "stream",
     "text": [
      "(512, 512, 281)\n"
     ]
    }
   ],
   "source": [
    "image = nibabel.load('/home/the_architect/vr_heart_results/45wq9ozw/labels/P73_labels/P73_labels_pred.nii.gz')\n",
    "image_data = image.get_fdata()\n",
    "print(image_data.shape)"
   ]
  },
  {
   "cell_type": "code",
   "execution_count": 6,
   "metadata": {},
   "outputs": [
    {
     "name": "stdout",
     "output_type": "stream",
     "text": [
      "0.9999512434005737\n",
      "0.027324529364705086\n"
     ]
    }
   ],
   "source": [
    "print(image_data.max())\n",
    "print(image_data.min())"
   ]
  },
  {
   "cell_type": "code",
   "execution_count": 9,
   "metadata": {},
   "outputs": [
    {
     "name": "stdout",
     "output_type": "stream",
     "text": [
      "(512, 281, 1, 512)\n",
      "1.0\n",
      "0.0\n"
     ]
    }
   ],
   "source": [
    "disc_image = nibabel.load('/home/the_architect/vr_heart_results/45wq9ozw/labels/P73_labels/0/0_pred_discrete.nii.gz')\n",
    "disc_image_data = disc_image.get_fdata()\n",
    "# Reshape the data to desired dimensions (512, 512, 281)\n",
    "disc_image_data = np.transpose(disc_image_data, (0, 3, 2, 1))  # Rearrange axes\n",
    "disc_image_data = np.squeeze(disc_image_data)  # Remove singleton dimension\n",
    "print(disc_image_data.shape)\n",
    "print(disc_image_data.max())\n",
    "print(disc_image_data.min())"
   ]
  },
  {
   "cell_type": "code",
   "execution_count": null,
   "metadata": {},
   "outputs": [],
   "source": [
    "disc_image = nibabel.load('/home/the_architect/vr_heart_results/45wq9ozw/labels/P73_labels/0/0_pred_discrete.nii.gz')\n",
    "disc_image_data = disc_image.get_fdata()\n",
    "# Reshape the data to desired dimensions (512, 512, 281)\n",
    "disc_image_data = np.transpose(disc_image_data, (0, 3, 2, 1))  # Rearrange axes\n",
    "disc_image_data = np.squeeze(disc_image_data)  # Remove singleton dimension\n",
    "print(disc_image_data.shape)\n",
    "print(disc_image_data.max())\n",
    "print(disc_image_data.min())"
   ]
  },
  {
   "cell_type": "code",
   "execution_count": 8,
   "metadata": {},
   "outputs": [
    {
     "name": "stdout",
     "output_type": "stream",
     "text": [
      "(512, 512, 64)\n",
      "0.0\n",
      "0.0\n"
     ]
    }
   ],
   "source": [
    "import nibabel\n",
    "\n",
    "disc_image = nibabel.load('/home/the_architect/vr_heart_results/vr_heart_origin_shifted/P6/original_P6_labels.nii.gz')\n",
    "disc_image_data = disc_image.get_fdata()\n",
    "print(disc_image_data.shape)\n",
    "print(disc_image_data.max())\n",
    "print(disc_image_data.min())"
   ]
  },
  {
   "cell_type": "code",
   "execution_count": 5,
   "metadata": {},
   "outputs": [
    {
     "name": "stdout",
     "output_type": "stream",
     "text": [
      "[[[0. 0. 0. ... 0. 0. 0.]\n",
      "  [0. 0. 0. ... 0. 0. 0.]\n",
      "  [0. 0. 0. ... 0. 0. 0.]\n",
      "  ...\n",
      "  [0. 0. 0. ... 0. 0. 0.]\n",
      "  [0. 0. 0. ... 0. 0. 0.]\n",
      "  [0. 0. 0. ... 0. 0. 0.]]\n",
      "\n",
      " [[0. 0. 0. ... 0. 0. 0.]\n",
      "  [0. 0. 0. ... 0. 0. 0.]\n",
      "  [0. 0. 0. ... 0. 0. 0.]\n",
      "  ...\n",
      "  [0. 0. 0. ... 0. 0. 0.]\n",
      "  [0. 0. 0. ... 0. 0. 0.]\n",
      "  [0. 0. 0. ... 0. 0. 0.]]\n",
      "\n",
      " [[0. 0. 0. ... 0. 0. 0.]\n",
      "  [0. 0. 0. ... 0. 0. 0.]\n",
      "  [0. 0. 0. ... 0. 0. 0.]\n",
      "  ...\n",
      "  [0. 0. 0. ... 0. 0. 0.]\n",
      "  [0. 0. 0. ... 0. 0. 0.]\n",
      "  [0. 0. 0. ... 0. 0. 0.]]\n",
      "\n",
      " ...\n",
      "\n",
      " [[0. 0. 0. ... 0. 0. 0.]\n",
      "  [0. 0. 0. ... 0. 0. 0.]\n",
      "  [0. 0. 0. ... 0. 0. 0.]\n",
      "  ...\n",
      "  [0. 0. 0. ... 0. 0. 0.]\n",
      "  [0. 0. 0. ... 0. 0. 0.]\n",
      "  [0. 0. 0. ... 0. 0. 0.]]\n",
      "\n",
      " [[0. 0. 0. ... 0. 0. 0.]\n",
      "  [0. 0. 0. ... 0. 0. 0.]\n",
      "  [0. 0. 0. ... 0. 0. 0.]\n",
      "  ...\n",
      "  [0. 0. 0. ... 0. 0. 0.]\n",
      "  [0. 0. 0. ... 0. 0. 0.]\n",
      "  [0. 0. 0. ... 0. 0. 0.]]\n",
      "\n",
      " [[0. 0. 0. ... 0. 0. 0.]\n",
      "  [0. 0. 0. ... 0. 0. 0.]\n",
      "  [0. 0. 0. ... 0. 0. 0.]\n",
      "  ...\n",
      "  [0. 0. 0. ... 0. 0. 0.]\n",
      "  [0. 0. 0. ... 0. 0. 0.]\n",
      "  [0. 0. 0. ... 0. 0. 0.]]]\n"
     ]
    }
   ],
   "source": [
    "print(disc_image_data)"
   ]
  },
  {
   "cell_type": "code",
   "execution_count": null,
   "metadata": {},
   "outputs": [],
   "source": []
  }
 ],
 "metadata": {
  "kernelspec": {
   "display_name": "Python 3",
   "language": "python",
   "name": "python3"
  },
  "language_info": {
   "codemirror_mode": {
    "name": "ipython",
    "version": 3
   },
   "file_extension": ".py",
   "mimetype": "text/x-python",
   "name": "python",
   "nbconvert_exporter": "python",
   "pygments_lexer": "ipython3",
   "version": "3.10.12"
  }
 },
 "nbformat": 4,
 "nbformat_minor": 2
}
